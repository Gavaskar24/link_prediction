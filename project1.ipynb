{
 "cells": [
  {
   "cell_type": "code",
   "execution_count": 1,
   "metadata": {},
   "outputs": [],
   "source": [
    "import csv\n",
    "import networkx as nx\n",
    "import numpy as np\n",
    "import pandas as pd\n",
    "# from tqdm import tqdm\n",
    "from tqdm.notebook import tqdm\n",
    "from feature_extraction import feature_extraction_pos\n",
    "from feature_extraction import feature_extraction_neg\n",
    "# from train import train_model\n",
    "# from test import test_model\n",
    "from graph_sample import preferential_uniform_random_node_sampling\n",
    "from graph_sample import uniform_random_node_sampling"
   ]
  },
  {
   "cell_type": "code",
   "execution_count": 2,
   "metadata": {},
   "outputs": [],
   "source": [
    "# Initialize directed graph\n",
    "G = nx.DiGraph()\n",
    "\n",
    "# Open the file in read mode and construct the graph\n",
    "with open('train.csv', 'r') as file:\n",
    "    reader = csv.reader(file)\n",
    "    for row in reader:\n",
    "        src = int(row[0])\n",
    "        # Adding edges from source to all destinations in the row\n",
    "        for dest in row[1:]:\n",
    "            G.add_edge(src, int(dest))"
   ]
  },
  {
   "cell_type": "code",
   "execution_count": 3,
   "metadata": {},
   "outputs": [
    {
     "name": "stdout",
     "output_type": "stream",
     "text": [
      "Number of nodes:  4867136\n",
      "Number of edges:  23945602\n"
     ]
    }
   ],
   "source": [
    "print(\"Number of nodes: \", G.number_of_nodes())\n",
    "print(\"Number of edges: \", G.number_of_edges())"
   ]
  },
  {
   "cell_type": "code",
   "execution_count": 4,
   "metadata": {},
   "outputs": [],
   "source": [
    "import random\n",
    "all_edges = list(G.edges())\n",
    "all_nodes = set(G.nodes())\n",
    "# num_edges_to_sample = int(len(all_edges) * fraction)\n",
    "num_edges_to_sample = 50000\n",
    "sampled_edges = random.sample(all_edges, num_edges_to_sample)\n",
    "num_neg_examples = num_edges_to_sample"
   ]
  },
  {
   "cell_type": "code",
   "execution_count": 5,
   "metadata": {},
   "outputs": [
    {
     "name": "stdout",
     "output_type": "stream",
     "text": [
      "Number of nodes in subgraph:  52261\n",
      "Number of edges in subgraph:  50000\n"
     ]
    }
   ],
   "source": [
    "G_subgraph = nx.DiGraph()\n",
    "G_subgraph.add_edges_from(sampled_edges)\n",
    "print(\"Number of nodes in subgraph: \", G_subgraph.number_of_nodes())\n",
    "print(\"Number of edges in subgraph: \", G_subgraph.number_of_edges())"
   ]
  },
  {
   "cell_type": "code",
   "execution_count": 6,
   "metadata": {},
   "outputs": [],
   "source": [
    "# num_edges_to_sample = 25000\n",
    "# test_path = 'test.csv'\n",
    "# G_subgraph = uniform_random_node_sampling(G, num_edges_to_sample)"
   ]
  },
  {
   "cell_type": "code",
   "execution_count": 7,
   "metadata": {},
   "outputs": [],
   "source": [
    "# print(\"Number of nodes in the subgraph: \", G_subgraph.number_of_nodes())\n",
    "# print(\"Number of edges in the subgraph: \", G_subgraph.number_of_edges())"
   ]
  },
  {
   "cell_type": "code",
   "execution_count": 8,
   "metadata": {},
   "outputs": [],
   "source": [
    "# # save the subgraph\n",
    "nx.write_edgelist(G_subgraph, \"subgraph_v10.txt\", data=False)\n",
    "\n",
    "# load the subgraph\n",
    "# G_subgraph = nx.read_edgelist(\"subgraph_v4.txt\", create_using=nx.DiGraph(), nodetype=int)\n",
    "# print(\"Number of nodes in the subgraph: \", G_subgraph.number_of_nodes())\n",
    "# print(\"Number of edges in the subgraph: \", G_subgraph.number_of_edges())"
   ]
  },
  {
   "cell_type": "code",
   "execution_count": 9,
   "metadata": {},
   "outputs": [
    {
     "data": {
      "application/vnd.jupyter.widget-view+json": {
       "model_id": "ece8c68f04264954aa90beaa62e6164d",
       "version_major": 2,
       "version_minor": 0
      },
      "text/plain": [
       "Processing edges:   0%|          | 0/50000 [00:00<?, ?edge/s]"
      ]
     },
     "metadata": {},
     "output_type": "display_data"
    },
    {
     "data": {
      "application/vnd.jupyter.widget-view+json": {
       "model_id": "1afa1060d9cf4ea7b0768c1832fb4fa2",
       "version_major": 2,
       "version_minor": 0
      },
      "text/plain": [
       "Generating negative examples:   0%|          | 0/50000 [00:00<?, ?example/s]"
      ]
     },
     "metadata": {},
     "output_type": "display_data"
    },
    {
     "name": "stdout",
     "output_type": "stream",
     "text": [
      "[(0, 0, 0.0, 0.0, 1518, 1), (0, 0, 0.0, 0.0, 1518, 1), (0, 0, 0.0, 0.0, 1518, 1), (0, 0, 0.0, 0.0, 1518, 1), (0, 0, 0.0, 0.0, 1518, 1)]\n"
     ]
    }
   ],
   "source": [
    "data=[]\n",
    "neg_examples=[]\n",
    "\n",
    "data = feature_extraction_pos(G_subgraph, G_subgraph.edges())\n",
    "neg_examples = feature_extraction_neg(G_subgraph, num_edges_to_sample, G_subgraph.nodes())\n",
    "data.extend(neg_examples)\n",
    "\n",
    "print(data[:5])"
   ]
  },
  {
   "cell_type": "code",
   "execution_count": 10,
   "metadata": {},
   "outputs": [
    {
     "data": {
      "text/html": [
       "<div>\n",
       "<style scoped>\n",
       "    .dataframe tbody tr th:only-of-type {\n",
       "        vertical-align: middle;\n",
       "    }\n",
       "\n",
       "    .dataframe tbody tr th {\n",
       "        vertical-align: top;\n",
       "    }\n",
       "\n",
       "    .dataframe thead th {\n",
       "        text-align: right;\n",
       "    }\n",
       "</style>\n",
       "<table border=\"1\" class=\"dataframe\">\n",
       "  <thead>\n",
       "    <tr style=\"text-align: right;\">\n",
       "      <th></th>\n",
       "      <th>common_successors</th>\n",
       "      <th>common_predecessors</th>\n",
       "      <th>jaccard_successors</th>\n",
       "      <th>jaccard_predecessors</th>\n",
       "      <th>preferential_attachment</th>\n",
       "      <th>Label</th>\n",
       "    </tr>\n",
       "  </thead>\n",
       "  <tbody>\n",
       "    <tr>\n",
       "      <th>0</th>\n",
       "      <td>0</td>\n",
       "      <td>0</td>\n",
       "      <td>0.0</td>\n",
       "      <td>0.0</td>\n",
       "      <td>1</td>\n",
       "      <td>0</td>\n",
       "    </tr>\n",
       "    <tr>\n",
       "      <th>1</th>\n",
       "      <td>0</td>\n",
       "      <td>0</td>\n",
       "      <td>0.0</td>\n",
       "      <td>0.0</td>\n",
       "      <td>1</td>\n",
       "      <td>0</td>\n",
       "    </tr>\n",
       "    <tr>\n",
       "      <th>2</th>\n",
       "      <td>0</td>\n",
       "      <td>0</td>\n",
       "      <td>0.0</td>\n",
       "      <td>0.0</td>\n",
       "      <td>1</td>\n",
       "      <td>0</td>\n",
       "    </tr>\n",
       "    <tr>\n",
       "      <th>3</th>\n",
       "      <td>0</td>\n",
       "      <td>0</td>\n",
       "      <td>0.0</td>\n",
       "      <td>0.0</td>\n",
       "      <td>1</td>\n",
       "      <td>0</td>\n",
       "    </tr>\n",
       "    <tr>\n",
       "      <th>4</th>\n",
       "      <td>0</td>\n",
       "      <td>0</td>\n",
       "      <td>0.0</td>\n",
       "      <td>0.0</td>\n",
       "      <td>16</td>\n",
       "      <td>1</td>\n",
       "    </tr>\n",
       "  </tbody>\n",
       "</table>\n",
       "</div>"
      ],
      "text/plain": [
       "   common_successors  common_predecessors  jaccard_successors  \\\n",
       "0                  0                    0                 0.0   \n",
       "1                  0                    0                 0.0   \n",
       "2                  0                    0                 0.0   \n",
       "3                  0                    0                 0.0   \n",
       "4                  0                    0                 0.0   \n",
       "\n",
       "   jaccard_predecessors  preferential_attachment  Label  \n",
       "0                   0.0                        1      0  \n",
       "1                   0.0                        1      0  \n",
       "2                   0.0                        1      0  \n",
       "3                   0.0                        1      0  \n",
       "4                   0.0                       16      1  "
      ]
     },
     "execution_count": 10,
     "metadata": {},
     "output_type": "execute_result"
    }
   ],
   "source": [
    "columns = ['common_successors', 'common_predecessors', 'jaccard_successors', 'jaccard_predecessors', 'preferential_attachment', 'Label']\n",
    "\n",
    "# # column_names = [\n",
    "# #     \"common_successors\", \"common_predecessors\", \"jaccard_successors\", \"jaccard_predecessors\",\n",
    "# #     \"preferential_attachment\", \"aa_predecessors\", \"aa_successors\", \"ra_predecessors\", \"ra_successors\",\n",
    "# #     \"katz_src\", \"katz_dest\", \"pr_src\", \"pr_dest\", \"cc_src\", \"cc_dest\", \"closeness_src\", \"closeness_dest\",\n",
    "# #     \"betweenness_src\", \"betweenness_dest\", \"avg_neighbor_degree_src\", \"avg_neighbor_degree_dest\",\n",
    "# #     \"harmonic_src\", \"harmonic_dest\", \"eigenvector_src\", \"eigenvector_dest\", \"Label\"\n",
    "# # ]\n",
    "\n",
    "df = pd.DataFrame(data, columns=columns)\n",
    "# # shuffle df\n",
    "df = df.sample(frac=1).reset_index(drop=True)\n",
    "df.to_csv('pos_neg_samples_v10.csv', index=False)\n",
    "df.head()"
   ]
  },
  {
   "cell_type": "code",
   "execution_count": 11,
   "metadata": {},
   "outputs": [],
   "source": [
    "# df = pd.read_csv('pos_neg_samples_xgb.csv')\n",
    "# df.head()"
   ]
  },
  {
   "cell_type": "code",
   "execution_count": 12,
   "metadata": {},
   "outputs": [],
   "source": [
    "from sklearn.preprocessing import StandardScaler\n",
    "from train import train_grid_model\n",
    "from train import train_ensemble_model\n",
    "# from train import train_model\n",
    "from train import train_xgboost_model\n",
    "\n",
    "scaler = StandardScaler()\n",
    "\n",
    "# log_reg = train_model(df, scaler)\n",
    "# best_clf = train_grid_model(df, scaler)\n",
    "# ensemble_model = train_ensemble_model(df, scaler, best_clf)"
   ]
  },
  {
   "cell_type": "code",
   "execution_count": 13,
   "metadata": {},
   "outputs": [
    {
     "name": "stdout",
     "output_type": "stream",
     "text": [
      "AUC-ROC of Logistic Regression on Validation Set: 0.945385771824451\n",
      "AUC-ROC of Neural Network on Validation Set: 0.9451816602242162\n",
      "AUC-ROC of SVM on Validation Set: 0.9452258555707075\n",
      "AUC-ROC of KNN on Validation Set: 0.9234092095282027\n",
      "AUC-ROC of Naive Bayes on Validation Set: 0.8911171113581531\n",
      "AUC-ROC of XGBoost on Validation Set: 0.9454103120168462\n",
      "AUC-ROC of Ensemble on Validation Set: 0.9453334814144944\n"
     ]
    }
   ],
   "source": [
    "best_clf = train_grid_model(df, scaler)\n",
    "ensemble_model = train_ensemble_model(df, scaler, best_clf)"
   ]
  },
  {
   "cell_type": "code",
   "execution_count": 14,
   "metadata": {},
   "outputs": [],
   "source": [
    "# bst_model = train_xgboost_model(df, scaler)"
   ]
  },
  {
   "cell_type": "code",
   "execution_count": 15,
   "metadata": {},
   "outputs": [],
   "source": [
    "# from graph_sample import preferential_uniform_random_node_sampling\n",
    "\n",
    "# num_edges_to_sample = 25000\n",
    "# test_path = 'test.csv'\n",
    "# G_subgraph = preferential_uniform_random_node_sampling(G, num_edges_to_sample, test_path)\n",
    "\n",
    "# # check how many nodes in the test set are in the subgraph\n",
    "# test_df = pd.read_csv('test.csv')\n",
    "# test_df.head()\n",
    "\n",
    "# test_df['From'] = test_df['From'].astype(int)\n",
    "# test_df['To'] = test_df['To'].astype(int)\n",
    "\n",
    "# test_df['Source_in_subgraph'] = test_df['From'].apply(lambda x: int(x) in G_subgraph.nodes())\n",
    "# test_df['Sink_in_subgraph'] = test_df['To'].apply(lambda x: int(x) in G_subgraph.nodes())\n",
    "\n",
    "# print(test_df['Source_in_subgraph'].value_counts())\n",
    "# print(test_df['Sink_in_subgraph'].value_counts())\n",
    "\n",
    "# test_df.head()"
   ]
  },
  {
   "cell_type": "code",
   "execution_count": 16,
   "metadata": {},
   "outputs": [],
   "source": [
    "# import pandas as pd\n",
    "\n",
    "# test_df = pd.read_csv('test.csv')\n",
    "# test_nodes = set(test_df['From']).union(set(test_df['To']))\n",
    "\n",
    "# in_subgraph = {node: node in G_subgraph.nodes() for node in test_nodes}\n",
    "# counts = {'in_subgraph': 0, 'not_in_subgraph': 0}\n",
    "# for node, present in in_subgraph.items():\n",
    "#     if present:\n",
    "#         counts['in_subgraph'] += 1\n",
    "#     else:\n",
    "#         counts['not_in_subgraph'] += 1\n",
    "\n",
    "# print(\"Nodes in subgraph:\", counts['in_subgraph'])\n",
    "# print(\"Nodes not in subgraph:\", counts['not_in_subgraph'])"
   ]
  },
  {
   "cell_type": "code",
   "execution_count": 17,
   "metadata": {},
   "outputs": [],
   "source": [
    "from test import test_model\n",
    "test_df = pd.read_csv('test.csv')\n",
    "test_probs, test_features_scaled = test_model(G, test_df, scaler, columns[:-1], ensemble_model)"
   ]
  },
  {
   "cell_type": "code",
   "execution_count": 18,
   "metadata": {},
   "outputs": [
    {
     "data": {
      "text/html": [
       "<div>\n",
       "<style scoped>\n",
       "    .dataframe tbody tr th:only-of-type {\n",
       "        vertical-align: middle;\n",
       "    }\n",
       "\n",
       "    .dataframe tbody tr th {\n",
       "        vertical-align: top;\n",
       "    }\n",
       "\n",
       "    .dataframe thead th {\n",
       "        text-align: right;\n",
       "    }\n",
       "</style>\n",
       "<table border=\"1\" class=\"dataframe\">\n",
       "  <thead>\n",
       "    <tr style=\"text-align: right;\">\n",
       "      <th></th>\n",
       "      <th>Id</th>\n",
       "      <th>Predictions</th>\n",
       "    </tr>\n",
       "  </thead>\n",
       "  <tbody>\n",
       "    <tr>\n",
       "      <th>0</th>\n",
       "      <td>1</td>\n",
       "      <td>0.778175</td>\n",
       "    </tr>\n",
       "    <tr>\n",
       "      <th>1</th>\n",
       "      <td>2</td>\n",
       "      <td>0.982305</td>\n",
       "    </tr>\n",
       "    <tr>\n",
       "      <th>2</th>\n",
       "      <td>3</td>\n",
       "      <td>0.944894</td>\n",
       "    </tr>\n",
       "    <tr>\n",
       "      <th>3</th>\n",
       "      <td>4</td>\n",
       "      <td>0.847356</td>\n",
       "    </tr>\n",
       "    <tr>\n",
       "      <th>4</th>\n",
       "      <td>5</td>\n",
       "      <td>0.778178</td>\n",
       "    </tr>\n",
       "  </tbody>\n",
       "</table>\n",
       "</div>"
      ],
      "text/plain": [
       "   Id  Predictions\n",
       "0   1     0.778175\n",
       "1   2     0.982305\n",
       "2   3     0.944894\n",
       "3   4     0.847356\n",
       "4   5     0.778178"
      ]
     },
     "execution_count": 18,
     "metadata": {},
     "output_type": "execute_result"
    }
   ],
   "source": [
    "# test_df = pd.read_csv('test.csv')\n",
    "# test_features_scaled, test_probs = test_model(G, test_df, scaler, log_model, columns[:-1])\n",
    "\n",
    "output_df = pd.DataFrame({'Id': range(1, len(test_probs) + 1), 'Predictions': test_probs})\n",
    "output_df.to_csv('test_predictions_v10.csv', index=False)\n",
    "output_df.head()"
   ]
  },
  {
   "cell_type": "code",
   "execution_count": 19,
   "metadata": {},
   "outputs": [
    {
     "data": {
      "text/plain": [
       "Predictions\n",
       "0.944842    349\n",
       "0.611509    208\n",
       "0.778175    171\n",
       "0.883032     96\n",
       "0.944894     62\n",
       "           ... \n",
       "0.944711      1\n",
       "0.976303      1\n",
       "0.981897      1\n",
       "0.780638      1\n",
       "0.976813      1\n",
       "Name: count, Length: 1075, dtype: int64"
      ]
     },
     "execution_count": 19,
     "metadata": {},
     "output_type": "execute_result"
    }
   ],
   "source": [
    "output_df['Predictions'].value_counts()"
   ]
  }
 ],
 "metadata": {
  "kernelspec": {
   "display_name": "torch",
   "language": "python",
   "name": "python3"
  },
  "language_info": {
   "codemirror_mode": {
    "name": "ipython",
    "version": 3
   },
   "file_extension": ".py",
   "mimetype": "text/x-python",
   "name": "python",
   "nbconvert_exporter": "python",
   "pygments_lexer": "ipython3",
   "version": "3.10.11"
  },
  "orig_nbformat": 4
 },
 "nbformat": 4,
 "nbformat_minor": 2
}
